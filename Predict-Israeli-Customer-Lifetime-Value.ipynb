{
 "cells": [
  {
   "cell_type": "code",
   "execution_count": 1,
   "metadata": {},
   "outputs": [],
   "source": [
    "#import modules\n",
    "import pandas as pd # for dataframes\n",
    "import matplotlib.pyplot as plt # for plotting graphs\n",
    "import seaborn as sns # for plotting graphs\n",
    "import datetime as dt\n",
    "import numpy as np"
   ]
  },
  {
   "cell_type": "markdown",
   "metadata": {},
   "source": [
    "## Loading Dataset"
   ]
  },
  {
   "cell_type": "code",
   "execution_count": 2,
   "metadata": {},
   "outputs": [],
   "source": [
    "data = pd.read_csv(\"CLTVֹֹ_Example.csv\",encoding='ISO-8859-1')"
   ]
  },
  {
   "cell_type": "code",
   "execution_count": 3,
   "metadata": {},
   "outputs": [
    {
     "data": {
      "text/html": [
       "<div>\n",
       "<style scoped>\n",
       "    .dataframe tbody tr th:only-of-type {\n",
       "        vertical-align: middle;\n",
       "    }\n",
       "\n",
       "    .dataframe tbody tr th {\n",
       "        vertical-align: top;\n",
       "    }\n",
       "\n",
       "    .dataframe thead th {\n",
       "        text-align: right;\n",
       "    }\n",
       "</style>\n",
       "<table border=\"1\" class=\"dataframe\">\n",
       "  <thead>\n",
       "    <tr style=\"text-align: right;\">\n",
       "      <th></th>\n",
       "      <th>InvoiceNo</th>\n",
       "      <th>StockCode</th>\n",
       "      <th>Description</th>\n",
       "      <th>Quantity</th>\n",
       "      <th>InvoiceDate</th>\n",
       "      <th>UnitPrice</th>\n",
       "      <th>CustomerID</th>\n",
       "      <th>Country</th>\n",
       "    </tr>\n",
       "  </thead>\n",
       "  <tbody>\n",
       "    <tr>\n",
       "      <th>0</th>\n",
       "      <td>536365</td>\n",
       "      <td>85123A</td>\n",
       "      <td>WHITE HANGING HEART T-LIGHT HOLDER</td>\n",
       "      <td>6</td>\n",
       "      <td>01/12/2018 08:36</td>\n",
       "      <td>2.55</td>\n",
       "      <td>17850.0</td>\n",
       "      <td>Israel</td>\n",
       "    </tr>\n",
       "    <tr>\n",
       "      <th>1</th>\n",
       "      <td>536365</td>\n",
       "      <td>71053</td>\n",
       "      <td>WHITE METAL LANTERN</td>\n",
       "      <td>6</td>\n",
       "      <td>01/12/2018 08:36</td>\n",
       "      <td>3.39</td>\n",
       "      <td>17850.0</td>\n",
       "      <td>Israel</td>\n",
       "    </tr>\n",
       "    <tr>\n",
       "      <th>2</th>\n",
       "      <td>536365</td>\n",
       "      <td>84406B</td>\n",
       "      <td>CREAM CUPID HEARTS COAT HANGER</td>\n",
       "      <td>8</td>\n",
       "      <td>01/12/2018 08:36</td>\n",
       "      <td>2.75</td>\n",
       "      <td>17850.0</td>\n",
       "      <td>Israel</td>\n",
       "    </tr>\n",
       "    <tr>\n",
       "      <th>3</th>\n",
       "      <td>536365</td>\n",
       "      <td>84029G</td>\n",
       "      <td>KNITTED UNION FLAG HOT WATER BOTTLE</td>\n",
       "      <td>6</td>\n",
       "      <td>01/12/2018 08:36</td>\n",
       "      <td>3.39</td>\n",
       "      <td>17850.0</td>\n",
       "      <td>Israel</td>\n",
       "    </tr>\n",
       "    <tr>\n",
       "      <th>4</th>\n",
       "      <td>536365</td>\n",
       "      <td>84029E</td>\n",
       "      <td>RED WOOLLY HOTTIE WHITE HEART.</td>\n",
       "      <td>6</td>\n",
       "      <td>01/12/2018 08:36</td>\n",
       "      <td>3.39</td>\n",
       "      <td>17850.0</td>\n",
       "      <td>Israel</td>\n",
       "    </tr>\n",
       "  </tbody>\n",
       "</table>\n",
       "</div>"
      ],
      "text/plain": [
       "  InvoiceNo StockCode                          Description  Quantity  \\\n",
       "0    536365    85123A   WHITE HANGING HEART T-LIGHT HOLDER         6   \n",
       "1    536365     71053                  WHITE METAL LANTERN         6   \n",
       "2    536365    84406B       CREAM CUPID HEARTS COAT HANGER         8   \n",
       "3    536365    84029G  KNITTED UNION FLAG HOT WATER BOTTLE         6   \n",
       "4    536365    84029E       RED WOOLLY HOTTIE WHITE HEART.         6   \n",
       "\n",
       "        InvoiceDate  UnitPrice  CustomerID Country  \n",
       "0  01/12/2018 08:36       2.55     17850.0  Israel  \n",
       "1  01/12/2018 08:36       3.39     17850.0  Israel  \n",
       "2  01/12/2018 08:36       2.75     17850.0  Israel  \n",
       "3  01/12/2018 08:36       3.39     17850.0  Israel  \n",
       "4  01/12/2018 08:36       3.39     17850.0  Israel  "
      ]
     },
     "execution_count": 3,
     "metadata": {},
     "output_type": "execute_result"
    }
   ],
   "source": [
    "data.head()"
   ]
  },
  {
   "cell_type": "markdown",
   "metadata": {},
   "source": [
    "## Removing Duplicates"
   ]
  },
  {
   "cell_type": "code",
   "execution_count": 4,
   "metadata": {},
   "outputs": [],
   "source": [
    "filtered_data=data[['Country','CustomerID']].drop_duplicates()"
   ]
  },
  {
   "cell_type": "markdown",
   "metadata": {},
   "source": [
    "## Data Insights"
   ]
  },
  {
   "cell_type": "code",
   "execution_count": 5,
   "metadata": {},
   "outputs": [
    {
     "data": {
      "text/plain": [
       "<matplotlib.axes._subplots.AxesSubplot at 0x26c4f5b5388>"
      ]
     },
     "execution_count": 5,
     "metadata": {},
     "output_type": "execute_result"
    },
    {
     "data": {
      "image/png": "[encoded data removed]",
      "text/plain": [
       "<Figure size 432x288 with 1 Axes>"
      ]
     },
     "metadata": {
      "needs_background": "light"
     },
     "output_type": "display_data"
    }
   ],
   "source": [
    "#Top ten country's customer\n",
    "filtered_data.Country.value_counts()[:10].plot(kind='bar')"
   ]
  },
  {
   "cell_type": "code",
   "execution_count": 6,
   "metadata": {},
   "outputs": [],
   "source": [
    "il_data=data[data.Country=='Israel']"
   ]
  },
  {
   "cell_type": "code",
   "execution_count": 7,
   "metadata": {},
   "outputs": [
    {
     "name": "stdout",
     "output_type": "stream",
     "text": [
      "<class 'pandas.core.frame.DataFrame'>\n",
      "Int64Index: 495478 entries, 0 to 541893\n",
      "Data columns (total 8 columns):\n",
      "InvoiceNo      495478 non-null object\n",
      "StockCode      495478 non-null object\n",
      "Description    494024 non-null object\n",
      "Quantity       495478 non-null int64\n",
      "InvoiceDate    495478 non-null object\n",
      "UnitPrice      495478 non-null float64\n",
      "CustomerID     361878 non-null float64\n",
      "Country        495478 non-null object\n",
      "dtypes: float64(2), int64(1), object(5)\n",
      "memory usage: 34.0+ MB\n"
     ]
    }
   ],
   "source": [
    "il_data.info()"
   ]
  },
  {
   "cell_type": "code",
   "execution_count": 8,
   "metadata": {},
   "outputs": [
    {
     "data": {
      "text/html": [
       "<div>\n",
       "<style scoped>\n",
       "    .dataframe tbody tr th:only-of-type {\n",
       "        vertical-align: middle;\n",
       "    }\n",
       "\n",
       "    .dataframe tbody tr th {\n",
       "        vertical-align: top;\n",
       "    }\n",
       "\n",
       "    .dataframe thead th {\n",
       "        text-align: right;\n",
       "    }\n",
       "</style>\n",
       "<table border=\"1\" class=\"dataframe\">\n",
       "  <thead>\n",
       "    <tr style=\"text-align: right;\">\n",
       "      <th></th>\n",
       "      <th>Quantity</th>\n",
       "      <th>UnitPrice</th>\n",
       "      <th>CustomerID</th>\n",
       "    </tr>\n",
       "  </thead>\n",
       "  <tbody>\n",
       "    <tr>\n",
       "      <th>count</th>\n",
       "      <td>495478.000000</td>\n",
       "      <td>495478.000000</td>\n",
       "      <td>361878.000000</td>\n",
       "    </tr>\n",
       "    <tr>\n",
       "      <th>mean</th>\n",
       "      <td>8.605486</td>\n",
       "      <td>4.532422</td>\n",
       "      <td>15547.871368</td>\n",
       "    </tr>\n",
       "    <tr>\n",
       "      <th>std</th>\n",
       "      <td>227.588756</td>\n",
       "      <td>99.315438</td>\n",
       "      <td>1594.402590</td>\n",
       "    </tr>\n",
       "    <tr>\n",
       "      <th>min</th>\n",
       "      <td>-80995.000000</td>\n",
       "      <td>-11062.060000</td>\n",
       "      <td>12346.000000</td>\n",
       "    </tr>\n",
       "    <tr>\n",
       "      <th>25%</th>\n",
       "      <td>1.000000</td>\n",
       "      <td>1.250000</td>\n",
       "      <td>14194.000000</td>\n",
       "    </tr>\n",
       "    <tr>\n",
       "      <th>50%</th>\n",
       "      <td>3.000000</td>\n",
       "      <td>2.100000</td>\n",
       "      <td>15514.000000</td>\n",
       "    </tr>\n",
       "    <tr>\n",
       "      <th>75%</th>\n",
       "      <td>10.000000</td>\n",
       "      <td>4.130000</td>\n",
       "      <td>16931.000000</td>\n",
       "    </tr>\n",
       "    <tr>\n",
       "      <th>max</th>\n",
       "      <td>80995.000000</td>\n",
       "      <td>38970.000000</td>\n",
       "      <td>18287.000000</td>\n",
       "    </tr>\n",
       "  </tbody>\n",
       "</table>\n",
       "</div>"
      ],
      "text/plain": [
       "            Quantity      UnitPrice     CustomerID\n",
       "count  495478.000000  495478.000000  361878.000000\n",
       "mean        8.605486       4.532422   15547.871368\n",
       "std       227.588756      99.315438    1594.402590\n",
       "min    -80995.000000  -11062.060000   12346.000000\n",
       "25%         1.000000       1.250000   14194.000000\n",
       "50%         3.000000       2.100000   15514.000000\n",
       "75%        10.000000       4.130000   16931.000000\n",
       "max     80995.000000   38970.000000   18287.000000"
      ]
     },
     "execution_count": 8,
     "metadata": {},
     "output_type": "execute_result"
    }
   ],
   "source": [
    "il_data.describe()"
   ]
  },
  {
   "cell_type": "code",
   "execution_count": 9,
   "metadata": {},
   "outputs": [],
   "source": [
    "il_data = il_data[(il_data['Quantity']>0)]"
   ]
  },
  {
   "cell_type": "code",
   "execution_count": 10,
   "metadata": {},
   "outputs": [
    {
     "name": "stdout",
     "output_type": "stream",
     "text": [
      "<class 'pandas.core.frame.DataFrame'>\n",
      "Int64Index: 486286 entries, 0 to 541893\n",
      "Data columns (total 8 columns):\n",
      "InvoiceNo      486286 non-null object\n",
      "StockCode      486286 non-null object\n",
      "Description    485694 non-null object\n",
      "Quantity       486286 non-null int64\n",
      "InvoiceDate    486286 non-null object\n",
      "UnitPrice      486286 non-null float64\n",
      "CustomerID     354345 non-null float64\n",
      "Country        486286 non-null object\n",
      "dtypes: float64(2), int64(1), object(5)\n",
      "memory usage: 33.4+ MB\n"
     ]
    }
   ],
   "source": [
    "il_data.info()"
   ]
  },
  {
   "cell_type": "markdown",
   "metadata": {},
   "source": [
    "## Filter required Columns"
   ]
  },
  {
   "cell_type": "code",
   "execution_count": 11,
   "metadata": {},
   "outputs": [],
   "source": [
    "il_data=il_data[['CustomerID',\n",
    "                 'InvoiceDate',\n",
    "                 'InvoiceNo',\n",
    "                 'Quantity',\n",
    "                 'UnitPrice']]"
   ]
  },
  {
   "cell_type": "code",
   "execution_count": 12,
   "metadata": {},
   "outputs": [],
   "source": [
    "#Calulate total purchase\n",
    "il_data['TotalPurchase'] = il_data['Quantity'] * il_data['UnitPrice']"
   ]
  },
  {
   "cell_type": "code",
   "execution_count": 13,
   "metadata": {},
   "outputs": [],
   "source": [
    "il_data['InvoiceDate1']=pd.to_datetime(il_data['InvoiceDate'])\n",
    "il_data.drop(['InvoiceDate'], axis=1, inplace=True)\n",
    "il_data.rename(columns={\"InvoiceDate1\": \"InvoiceDate\"}, inplace=True)"
   ]
  },
  {
   "cell_type": "code",
   "execution_count": 14,
   "metadata": {},
   "outputs": [],
   "source": [
    "il_data_group=il_data.groupby('CustomerID').agg(\n",
    "    {'InvoiceDate': lambda date: (date.max() - date.min()).days,\n",
    "     'InvoiceNo': lambda num: len(num),\n",
    "     'Quantity': lambda quant: quant.sum(),\n",
    "     'TotalPurchase': lambda price: price.sum()})"
   ]
  },
  {
   "cell_type": "code",
   "execution_count": 15,
   "metadata": {},
   "outputs": [
    {
     "data": {
      "text/html": [
       "<div>\n",
       "<style scoped>\n",
       "    .dataframe tbody tr th:only-of-type {\n",
       "        vertical-align: middle;\n",
       "    }\n",
       "\n",
       "    .dataframe tbody tr th {\n",
       "        vertical-align: top;\n",
       "    }\n",
       "\n",
       "    .dataframe thead th {\n",
       "        text-align: right;\n",
       "    }\n",
       "</style>\n",
       "<table border=\"1\" class=\"dataframe\">\n",
       "  <thead>\n",
       "    <tr style=\"text-align: right;\">\n",
       "      <th></th>\n",
       "      <th>InvoiceDate</th>\n",
       "      <th>InvoiceNo</th>\n",
       "      <th>Quantity</th>\n",
       "      <th>TotalPurchase</th>\n",
       "    </tr>\n",
       "    <tr>\n",
       "      <th>CustomerID</th>\n",
       "      <th></th>\n",
       "      <th></th>\n",
       "      <th></th>\n",
       "      <th></th>\n",
       "    </tr>\n",
       "  </thead>\n",
       "  <tbody>\n",
       "    <tr>\n",
       "      <th>12346.0</th>\n",
       "      <td>0</td>\n",
       "      <td>1</td>\n",
       "      <td>74215</td>\n",
       "      <td>77183.60</td>\n",
       "    </tr>\n",
       "    <tr>\n",
       "      <th>12747.0</th>\n",
       "      <td>554</td>\n",
       "      <td>103</td>\n",
       "      <td>1275</td>\n",
       "      <td>4196.01</td>\n",
       "    </tr>\n",
       "    <tr>\n",
       "      <th>12748.0</th>\n",
       "      <td>692</td>\n",
       "      <td>4596</td>\n",
       "      <td>25748</td>\n",
       "      <td>33719.73</td>\n",
       "    </tr>\n",
       "    <tr>\n",
       "      <th>12749.0</th>\n",
       "      <td>312</td>\n",
       "      <td>199</td>\n",
       "      <td>1471</td>\n",
       "      <td>4090.88</td>\n",
       "    </tr>\n",
       "    <tr>\n",
       "      <th>12820.0</th>\n",
       "      <td>282</td>\n",
       "      <td>59</td>\n",
       "      <td>722</td>\n",
       "      <td>942.34</td>\n",
       "    </tr>\n",
       "  </tbody>\n",
       "</table>\n",
       "</div>"
      ],
      "text/plain": [
       "            InvoiceDate  InvoiceNo  Quantity  TotalPurchase\n",
       "CustomerID                                                 \n",
       "12346.0               0          1     74215       77183.60\n",
       "12747.0             554        103      1275        4196.01\n",
       "12748.0             692       4596     25748       33719.73\n",
       "12749.0             312        199      1471        4090.88\n",
       "12820.0             282         59       722         942.34"
      ]
     },
     "execution_count": 15,
     "metadata": {},
     "output_type": "execute_result"
    }
   ],
   "source": [
    "il_data_group.head()"
   ]
  },
  {
   "cell_type": "markdown",
   "metadata": {},
   "source": [
    "## Rename the column"
   ]
  },
  {
   "cell_type": "code",
   "execution_count": 16,
   "metadata": {},
   "outputs": [
    {
     "data": {
      "text/html": [
       "<div>\n",
       "<style scoped>\n",
       "    .dataframe tbody tr th:only-of-type {\n",
       "        vertical-align: middle;\n",
       "    }\n",
       "\n",
       "    .dataframe tbody tr th {\n",
       "        vertical-align: top;\n",
       "    }\n",
       "\n",
       "    .dataframe thead th {\n",
       "        text-align: right;\n",
       "    }\n",
       "</style>\n",
       "<table border=\"1\" class=\"dataframe\">\n",
       "  <thead>\n",
       "    <tr style=\"text-align: right;\">\n",
       "      <th></th>\n",
       "      <th>num_days</th>\n",
       "      <th>num_transactions</th>\n",
       "      <th>num_units</th>\n",
       "      <th>spent_money</th>\n",
       "    </tr>\n",
       "    <tr>\n",
       "      <th>CustomerID</th>\n",
       "      <th></th>\n",
       "      <th></th>\n",
       "      <th></th>\n",
       "      <th></th>\n",
       "    </tr>\n",
       "  </thead>\n",
       "  <tbody>\n",
       "    <tr>\n",
       "      <th>12346.0</th>\n",
       "      <td>0</td>\n",
       "      <td>1</td>\n",
       "      <td>74215</td>\n",
       "      <td>77183.60</td>\n",
       "    </tr>\n",
       "    <tr>\n",
       "      <th>12747.0</th>\n",
       "      <td>554</td>\n",
       "      <td>103</td>\n",
       "      <td>1275</td>\n",
       "      <td>4196.01</td>\n",
       "    </tr>\n",
       "    <tr>\n",
       "      <th>12748.0</th>\n",
       "      <td>692</td>\n",
       "      <td>4596</td>\n",
       "      <td>25748</td>\n",
       "      <td>33719.73</td>\n",
       "    </tr>\n",
       "    <tr>\n",
       "      <th>12749.0</th>\n",
       "      <td>312</td>\n",
       "      <td>199</td>\n",
       "      <td>1471</td>\n",
       "      <td>4090.88</td>\n",
       "    </tr>\n",
       "    <tr>\n",
       "      <th>12820.0</th>\n",
       "      <td>282</td>\n",
       "      <td>59</td>\n",
       "      <td>722</td>\n",
       "      <td>942.34</td>\n",
       "    </tr>\n",
       "  </tbody>\n",
       "</table>\n",
       "</div>"
      ],
      "text/plain": [
       "            num_days  num_transactions  num_units  spent_money\n",
       "CustomerID                                                    \n",
       "12346.0            0                 1      74215     77183.60\n",
       "12747.0          554               103       1275      4196.01\n",
       "12748.0          692              4596      25748     33719.73\n",
       "12749.0          312               199       1471      4090.88\n",
       "12820.0          282                59        722       942.34"
      ]
     },
     "execution_count": 16,
     "metadata": {},
     "output_type": "execute_result"
    }
   ],
   "source": [
    "# Change the name of columns\n",
    "il_data_group.columns=['num_days','num_transactions','num_units','spent_money']\n",
    "il_data_group.head()"
   ]
  },
  {
   "cell_type": "markdown",
   "metadata": {},
   "source": [
    "# Calculate CLV using following formula:"
   ]
  },
  {
   "cell_type": "markdown",
   "metadata": {},
   "source": [
    "### 1. Calculate Average Order Value"
   ]
  },
  {
   "cell_type": "code",
   "execution_count": 17,
   "metadata": {},
   "outputs": [],
   "source": [
    "# Average Order Value\n",
    "il_data_group['avg_order_value']=il_data_group['spent_money']/il_data_group['num_transactions']"
   ]
  },
  {
   "cell_type": "code",
   "execution_count": 18,
   "metadata": {},
   "outputs": [
    {
     "data": {
      "text/html": [
       "<div>\n",
       "<style scoped>\n",
       "    .dataframe tbody tr th:only-of-type {\n",
       "        vertical-align: middle;\n",
       "    }\n",
       "\n",
       "    .dataframe tbody tr th {\n",
       "        vertical-align: top;\n",
       "    }\n",
       "\n",
       "    .dataframe thead th {\n",
       "        text-align: right;\n",
       "    }\n",
       "</style>\n",
       "<table border=\"1\" class=\"dataframe\">\n",
       "  <thead>\n",
       "    <tr style=\"text-align: right;\">\n",
       "      <th></th>\n",
       "      <th>num_days</th>\n",
       "      <th>num_transactions</th>\n",
       "      <th>num_units</th>\n",
       "      <th>spent_money</th>\n",
       "      <th>avg_order_value</th>\n",
       "    </tr>\n",
       "    <tr>\n",
       "      <th>CustomerID</th>\n",
       "      <th></th>\n",
       "      <th></th>\n",
       "      <th></th>\n",
       "      <th></th>\n",
       "      <th></th>\n",
       "    </tr>\n",
       "  </thead>\n",
       "  <tbody>\n",
       "    <tr>\n",
       "      <th>12346.0</th>\n",
       "      <td>0</td>\n",
       "      <td>1</td>\n",
       "      <td>74215</td>\n",
       "      <td>77183.60</td>\n",
       "      <td>77183.600000</td>\n",
       "    </tr>\n",
       "    <tr>\n",
       "      <th>12747.0</th>\n",
       "      <td>554</td>\n",
       "      <td>103</td>\n",
       "      <td>1275</td>\n",
       "      <td>4196.01</td>\n",
       "      <td>40.737961</td>\n",
       "    </tr>\n",
       "    <tr>\n",
       "      <th>12748.0</th>\n",
       "      <td>692</td>\n",
       "      <td>4596</td>\n",
       "      <td>25748</td>\n",
       "      <td>33719.73</td>\n",
       "      <td>7.336756</td>\n",
       "    </tr>\n",
       "    <tr>\n",
       "      <th>12749.0</th>\n",
       "      <td>312</td>\n",
       "      <td>199</td>\n",
       "      <td>1471</td>\n",
       "      <td>4090.88</td>\n",
       "      <td>20.557186</td>\n",
       "    </tr>\n",
       "    <tr>\n",
       "      <th>12820.0</th>\n",
       "      <td>282</td>\n",
       "      <td>59</td>\n",
       "      <td>722</td>\n",
       "      <td>942.34</td>\n",
       "      <td>15.971864</td>\n",
       "    </tr>\n",
       "  </tbody>\n",
       "</table>\n",
       "</div>"
      ],
      "text/plain": [
       "            num_days  num_transactions  num_units  spent_money  \\\n",
       "CustomerID                                                       \n",
       "12346.0            0                 1      74215     77183.60   \n",
       "12747.0          554               103       1275      4196.01   \n",
       "12748.0          692              4596      25748     33719.73   \n",
       "12749.0          312               199       1471      4090.88   \n",
       "12820.0          282                59        722       942.34   \n",
       "\n",
       "            avg_order_value  \n",
       "CustomerID                   \n",
       "12346.0        77183.600000  \n",
       "12747.0           40.737961  \n",
       "12748.0            7.336756  \n",
       "12749.0           20.557186  \n",
       "12820.0           15.971864  "
      ]
     },
     "execution_count": 18,
     "metadata": {},
     "output_type": "execute_result"
    }
   ],
   "source": [
    "il_data_group.head()"
   ]
  },
  {
   "cell_type": "markdown",
   "metadata": {},
   "source": [
    "### 2. Calculate Purchase Frequency"
   ]
  },
  {
   "cell_type": "code",
   "execution_count": 19,
   "metadata": {},
   "outputs": [],
   "source": [
    "# Purchase Frequency\n",
    "purchase_frequency=sum(il_data_group['num_transactions'])/il_data_group.shape[0]"
   ]
  },
  {
   "cell_type": "markdown",
   "metadata": {},
   "source": [
    "### 3. Calculate Repeat Rate and Churn Rate"
   ]
  },
  {
   "cell_type": "code",
   "execution_count": 20,
   "metadata": {},
   "outputs": [],
   "source": [
    "# Repeat Rate\n",
    "repeat_rate=il_data_group[il_data_group.num_transactions > 1].shape[0]/il_data_group.shape[0]"
   ]
  },
  {
   "cell_type": "code",
   "execution_count": 21,
   "metadata": {},
   "outputs": [],
   "source": [
    "# Churn Rate\n",
    "churn_rate=1-repeat_rate"
   ]
  },
  {
   "cell_type": "code",
   "execution_count": 22,
   "metadata": {},
   "outputs": [
    {
     "name": "stdout",
     "output_type": "stream",
     "text": [
      "The Purchase Frequency is 90.37 orders placed by each customer\n",
      "The Repeat Rate is 98.19%\n",
      "The Churn Rate is 1.81%\n"
     ]
    }
   ],
   "source": [
    "print(\"The Purchase Frequency is\", round(purchase_frequency,2),\"orders placed by each customer\")\n",
    "print(\"The Repeat Rate is\", \"{:.2%}\".format(repeat_rate))\n",
    "print(\"The Churn Rate is\", \"{:.2%}\".format(churn_rate))      "
   ]
  },
  {
   "cell_type": "markdown",
   "metadata": {},
   "source": [
    "### 4. Calculate Profit Margin"
   ]
  },
  {
   "cell_type": "code",
   "execution_count": 23,
   "metadata": {},
   "outputs": [],
   "source": [
    "# Profit Margin\n",
    "il_data_group['profit_margin']=il_data_group['spent_money']*0.05"
   ]
  },
  {
   "cell_type": "code",
   "execution_count": 24,
   "metadata": {},
   "outputs": [
    {
     "data": {
      "text/html": [
       "<div>\n",
       "<style scoped>\n",
       "    .dataframe tbody tr th:only-of-type {\n",
       "        vertical-align: middle;\n",
       "    }\n",
       "\n",
       "    .dataframe tbody tr th {\n",
       "        vertical-align: top;\n",
       "    }\n",
       "\n",
       "    .dataframe thead th {\n",
       "        text-align: right;\n",
       "    }\n",
       "</style>\n",
       "<table border=\"1\" class=\"dataframe\">\n",
       "  <thead>\n",
       "    <tr style=\"text-align: right;\">\n",
       "      <th></th>\n",
       "      <th>num_days</th>\n",
       "      <th>num_transactions</th>\n",
       "      <th>num_units</th>\n",
       "      <th>spent_money</th>\n",
       "      <th>avg_order_value</th>\n",
       "      <th>profit_margin</th>\n",
       "    </tr>\n",
       "    <tr>\n",
       "      <th>CustomerID</th>\n",
       "      <th></th>\n",
       "      <th></th>\n",
       "      <th></th>\n",
       "      <th></th>\n",
       "      <th></th>\n",
       "      <th></th>\n",
       "    </tr>\n",
       "  </thead>\n",
       "  <tbody>\n",
       "    <tr>\n",
       "      <th>12346.0</th>\n",
       "      <td>0</td>\n",
       "      <td>1</td>\n",
       "      <td>74215</td>\n",
       "      <td>77183.60</td>\n",
       "      <td>77183.600000</td>\n",
       "      <td>3859.1800</td>\n",
       "    </tr>\n",
       "    <tr>\n",
       "      <th>12747.0</th>\n",
       "      <td>554</td>\n",
       "      <td>103</td>\n",
       "      <td>1275</td>\n",
       "      <td>4196.01</td>\n",
       "      <td>40.737961</td>\n",
       "      <td>209.8005</td>\n",
       "    </tr>\n",
       "    <tr>\n",
       "      <th>12748.0</th>\n",
       "      <td>692</td>\n",
       "      <td>4596</td>\n",
       "      <td>25748</td>\n",
       "      <td>33719.73</td>\n",
       "      <td>7.336756</td>\n",
       "      <td>1685.9865</td>\n",
       "    </tr>\n",
       "    <tr>\n",
       "      <th>12749.0</th>\n",
       "      <td>312</td>\n",
       "      <td>199</td>\n",
       "      <td>1471</td>\n",
       "      <td>4090.88</td>\n",
       "      <td>20.557186</td>\n",
       "      <td>204.5440</td>\n",
       "    </tr>\n",
       "    <tr>\n",
       "      <th>12820.0</th>\n",
       "      <td>282</td>\n",
       "      <td>59</td>\n",
       "      <td>722</td>\n",
       "      <td>942.34</td>\n",
       "      <td>15.971864</td>\n",
       "      <td>47.1170</td>\n",
       "    </tr>\n",
       "  </tbody>\n",
       "</table>\n",
       "</div>"
      ],
      "text/plain": [
       "            num_days  num_transactions  num_units  spent_money  \\\n",
       "CustomerID                                                       \n",
       "12346.0            0                 1      74215     77183.60   \n",
       "12747.0          554               103       1275      4196.01   \n",
       "12748.0          692              4596      25748     33719.73   \n",
       "12749.0          312               199       1471      4090.88   \n",
       "12820.0          282                59        722       942.34   \n",
       "\n",
       "            avg_order_value  profit_margin  \n",
       "CustomerID                                  \n",
       "12346.0        77183.600000      3859.1800  \n",
       "12747.0           40.737961       209.8005  \n",
       "12748.0            7.336756      1685.9865  \n",
       "12749.0           20.557186       204.5440  \n",
       "12820.0           15.971864        47.1170  "
      ]
     },
     "execution_count": 24,
     "metadata": {},
     "output_type": "execute_result"
    }
   ],
   "source": [
    "il_data_group.head()"
   ]
  },
  {
   "cell_type": "markdown",
   "metadata": {},
   "source": [
    "### 5. Calcualte Customer Lifetime Value"
   ]
  },
  {
   "cell_type": "code",
   "execution_count": 25,
   "metadata": {},
   "outputs": [],
   "source": [
    "# Customer Value\n",
    "il_data_group['CLV']=(il_data_group['avg_order_value']*purchase_frequency)/churn_rate"
   ]
  },
  {
   "cell_type": "code",
   "execution_count": 26,
   "metadata": {},
   "outputs": [],
   "source": [
    "#Customer Lifetime Value\n",
    "il_data_group['cust_lifetime_value']=il_data_group['CLV']*il_data_group['profit_margin']"
   ]
  },
  {
   "cell_type": "code",
   "execution_count": 27,
   "metadata": {},
   "outputs": [
    {
     "data": {
      "text/html": [
       "<div>\n",
       "<style scoped>\n",
       "    .dataframe tbody tr th:only-of-type {\n",
       "        vertical-align: middle;\n",
       "    }\n",
       "\n",
       "    .dataframe tbody tr th {\n",
       "        vertical-align: top;\n",
       "    }\n",
       "\n",
       "    .dataframe thead th {\n",
       "        text-align: right;\n",
       "    }\n",
       "</style>\n",
       "<table border=\"1\" class=\"dataframe\">\n",
       "  <thead>\n",
       "    <tr style=\"text-align: right;\">\n",
       "      <th></th>\n",
       "      <th>num_days</th>\n",
       "      <th>num_transactions</th>\n",
       "      <th>num_units</th>\n",
       "      <th>spent_money</th>\n",
       "      <th>avg_order_value</th>\n",
       "      <th>profit_margin</th>\n",
       "      <th>CLV</th>\n",
       "      <th>cust_lifetime_value</th>\n",
       "    </tr>\n",
       "    <tr>\n",
       "      <th>CustomerID</th>\n",
       "      <th></th>\n",
       "      <th></th>\n",
       "      <th></th>\n",
       "      <th></th>\n",
       "      <th></th>\n",
       "      <th></th>\n",
       "      <th></th>\n",
       "      <th></th>\n",
       "    </tr>\n",
       "  </thead>\n",
       "  <tbody>\n",
       "    <tr>\n",
       "      <th>12346.0</th>\n",
       "      <td>0</td>\n",
       "      <td>1</td>\n",
       "      <td>74215</td>\n",
       "      <td>77183.60</td>\n",
       "      <td>77183.600000</td>\n",
       "      <td>3859.1800</td>\n",
       "      <td>3.852060e+08</td>\n",
       "      <td>1.486579e+12</td>\n",
       "    </tr>\n",
       "    <tr>\n",
       "      <th>12747.0</th>\n",
       "      <td>554</td>\n",
       "      <td>103</td>\n",
       "      <td>1275</td>\n",
       "      <td>4196.01</td>\n",
       "      <td>40.737961</td>\n",
       "      <td>209.8005</td>\n",
       "      <td>2.033140e+05</td>\n",
       "      <td>4.265538e+07</td>\n",
       "    </tr>\n",
       "    <tr>\n",
       "      <th>12748.0</th>\n",
       "      <td>692</td>\n",
       "      <td>4596</td>\n",
       "      <td>25748</td>\n",
       "      <td>33719.73</td>\n",
       "      <td>7.336756</td>\n",
       "      <td>1685.9865</td>\n",
       "      <td>3.661610e+04</td>\n",
       "      <td>6.173424e+07</td>\n",
       "    </tr>\n",
       "    <tr>\n",
       "      <th>12749.0</th>\n",
       "      <td>312</td>\n",
       "      <td>199</td>\n",
       "      <td>1471</td>\n",
       "      <td>4090.88</td>\n",
       "      <td>20.557186</td>\n",
       "      <td>204.5440</td>\n",
       "      <td>1.025963e+05</td>\n",
       "      <td>2.098545e+07</td>\n",
       "    </tr>\n",
       "    <tr>\n",
       "      <th>12820.0</th>\n",
       "      <td>282</td>\n",
       "      <td>59</td>\n",
       "      <td>722</td>\n",
       "      <td>942.34</td>\n",
       "      <td>15.971864</td>\n",
       "      <td>47.1170</td>\n",
       "      <td>7.971198e+04</td>\n",
       "      <td>3.755789e+06</td>\n",
       "    </tr>\n",
       "  </tbody>\n",
       "</table>\n",
       "</div>"
      ],
      "text/plain": [
       "            num_days  num_transactions  num_units  spent_money  \\\n",
       "CustomerID                                                       \n",
       "12346.0            0                 1      74215     77183.60   \n",
       "12747.0          554               103       1275      4196.01   \n",
       "12748.0          692              4596      25748     33719.73   \n",
       "12749.0          312               199       1471      4090.88   \n",
       "12820.0          282                59        722       942.34   \n",
       "\n",
       "            avg_order_value  profit_margin           CLV  cust_lifetime_value  \n",
       "CustomerID                                                                     \n",
       "12346.0        77183.600000      3859.1800  3.852060e+08         1.486579e+12  \n",
       "12747.0           40.737961       209.8005  2.033140e+05         4.265538e+07  \n",
       "12748.0            7.336756      1685.9865  3.661610e+04         6.173424e+07  \n",
       "12749.0           20.557186       204.5440  1.025963e+05         2.098545e+07  \n",
       "12820.0           15.971864        47.1170  7.971198e+04         3.755789e+06  "
      ]
     },
     "execution_count": 27,
     "metadata": {},
     "output_type": "execute_result"
    }
   ],
   "source": [
    "il_data_group.head()"
   ]
  },
  {
   "cell_type": "markdown",
   "metadata": {},
   "source": [
    "# Prediction Model for CLV"
   ]
  },
  {
   "cell_type": "code",
   "execution_count": 28,
   "metadata": {},
   "outputs": [
    {
     "data": {
      "text/html": [
       "<div>\n",
       "<style scoped>\n",
       "    .dataframe tbody tr th:only-of-type {\n",
       "        vertical-align: middle;\n",
       "    }\n",
       "\n",
       "    .dataframe tbody tr th {\n",
       "        vertical-align: top;\n",
       "    }\n",
       "\n",
       "    .dataframe thead th {\n",
       "        text-align: right;\n",
       "    }\n",
       "</style>\n",
       "<table border=\"1\" class=\"dataframe\">\n",
       "  <thead>\n",
       "    <tr style=\"text-align: right;\">\n",
       "      <th></th>\n",
       "      <th>CustomerID</th>\n",
       "      <th>InvoiceNo</th>\n",
       "      <th>Quantity</th>\n",
       "      <th>UnitPrice</th>\n",
       "      <th>TotalPurchase</th>\n",
       "      <th>InvoiceDate</th>\n",
       "    </tr>\n",
       "  </thead>\n",
       "  <tbody>\n",
       "    <tr>\n",
       "      <th>0</th>\n",
       "      <td>17850.0</td>\n",
       "      <td>536365</td>\n",
       "      <td>6</td>\n",
       "      <td>2.55</td>\n",
       "      <td>15.30</td>\n",
       "      <td>2018-01-12 08:36:00</td>\n",
       "    </tr>\n",
       "    <tr>\n",
       "      <th>1</th>\n",
       "      <td>17850.0</td>\n",
       "      <td>536365</td>\n",
       "      <td>6</td>\n",
       "      <td>3.39</td>\n",
       "      <td>20.34</td>\n",
       "      <td>2018-01-12 08:36:00</td>\n",
       "    </tr>\n",
       "    <tr>\n",
       "      <th>2</th>\n",
       "      <td>17850.0</td>\n",
       "      <td>536365</td>\n",
       "      <td>8</td>\n",
       "      <td>2.75</td>\n",
       "      <td>22.00</td>\n",
       "      <td>2018-01-12 08:36:00</td>\n",
       "    </tr>\n",
       "    <tr>\n",
       "      <th>3</th>\n",
       "      <td>17850.0</td>\n",
       "      <td>536365</td>\n",
       "      <td>6</td>\n",
       "      <td>3.39</td>\n",
       "      <td>20.34</td>\n",
       "      <td>2018-01-12 08:36:00</td>\n",
       "    </tr>\n",
       "    <tr>\n",
       "      <th>4</th>\n",
       "      <td>17850.0</td>\n",
       "      <td>536365</td>\n",
       "      <td>6</td>\n",
       "      <td>3.39</td>\n",
       "      <td>20.34</td>\n",
       "      <td>2018-01-12 08:36:00</td>\n",
       "    </tr>\n",
       "  </tbody>\n",
       "</table>\n",
       "</div>"
      ],
      "text/plain": [
       "   CustomerID InvoiceNo  Quantity  UnitPrice  TotalPurchase  \\\n",
       "0     17850.0    536365         6       2.55          15.30   \n",
       "1     17850.0    536365         6       3.39          20.34   \n",
       "2     17850.0    536365         8       2.75          22.00   \n",
       "3     17850.0    536365         6       3.39          20.34   \n",
       "4     17850.0    536365         6       3.39          20.34   \n",
       "\n",
       "          InvoiceDate  \n",
       "0 2018-01-12 08:36:00  \n",
       "1 2018-01-12 08:36:00  \n",
       "2 2018-01-12 08:36:00  \n",
       "3 2018-01-12 08:36:00  \n",
       "4 2018-01-12 08:36:00  "
      ]
     },
     "execution_count": 28,
     "metadata": {},
     "output_type": "execute_result"
    }
   ],
   "source": [
    "il_data.head()"
   ]
  },
  {
   "cell_type": "code",
   "execution_count": 29,
   "metadata": {},
   "outputs": [],
   "source": [
    "# Extract month and year from InvoiceDate.\n",
    "il_data['month_yr'] = il_data['InvoiceDate'].apply(lambda x: x.strftime('%b-%Y'))"
   ]
  },
  {
   "cell_type": "code",
   "execution_count": 30,
   "metadata": {},
   "outputs": [
    {
     "data": {
      "text/html": [
       "<div>\n",
       "<style scoped>\n",
       "    .dataframe tbody tr th:only-of-type {\n",
       "        vertical-align: middle;\n",
       "    }\n",
       "\n",
       "    .dataframe tbody tr th {\n",
       "        vertical-align: top;\n",
       "    }\n",
       "\n",
       "    .dataframe thead th {\n",
       "        text-align: right;\n",
       "    }\n",
       "</style>\n",
       "<table border=\"1\" class=\"dataframe\">\n",
       "  <thead>\n",
       "    <tr style=\"text-align: right;\">\n",
       "      <th></th>\n",
       "      <th>CustomerID</th>\n",
       "      <th>InvoiceNo</th>\n",
       "      <th>Quantity</th>\n",
       "      <th>UnitPrice</th>\n",
       "      <th>TotalPurchase</th>\n",
       "      <th>InvoiceDate</th>\n",
       "      <th>month_yr</th>\n",
       "    </tr>\n",
       "  </thead>\n",
       "  <tbody>\n",
       "    <tr>\n",
       "      <th>0</th>\n",
       "      <td>17850.0</td>\n",
       "      <td>536365</td>\n",
       "      <td>6</td>\n",
       "      <td>2.55</td>\n",
       "      <td>15.30</td>\n",
       "      <td>2018-01-12 08:36:00</td>\n",
       "      <td>Jan-2018</td>\n",
       "    </tr>\n",
       "    <tr>\n",
       "      <th>1</th>\n",
       "      <td>17850.0</td>\n",
       "      <td>536365</td>\n",
       "      <td>6</td>\n",
       "      <td>3.39</td>\n",
       "      <td>20.34</td>\n",
       "      <td>2018-01-12 08:36:00</td>\n",
       "      <td>Jan-2018</td>\n",
       "    </tr>\n",
       "    <tr>\n",
       "      <th>2</th>\n",
       "      <td>17850.0</td>\n",
       "      <td>536365</td>\n",
       "      <td>8</td>\n",
       "      <td>2.75</td>\n",
       "      <td>22.00</td>\n",
       "      <td>2018-01-12 08:36:00</td>\n",
       "      <td>Jan-2018</td>\n",
       "    </tr>\n",
       "    <tr>\n",
       "      <th>3</th>\n",
       "      <td>17850.0</td>\n",
       "      <td>536365</td>\n",
       "      <td>6</td>\n",
       "      <td>3.39</td>\n",
       "      <td>20.34</td>\n",
       "      <td>2018-01-12 08:36:00</td>\n",
       "      <td>Jan-2018</td>\n",
       "    </tr>\n",
       "    <tr>\n",
       "      <th>4</th>\n",
       "      <td>17850.0</td>\n",
       "      <td>536365</td>\n",
       "      <td>6</td>\n",
       "      <td>3.39</td>\n",
       "      <td>20.34</td>\n",
       "      <td>2018-01-12 08:36:00</td>\n",
       "      <td>Jan-2018</td>\n",
       "    </tr>\n",
       "  </tbody>\n",
       "</table>\n",
       "</div>"
      ],
      "text/plain": [
       "   CustomerID InvoiceNo  Quantity  UnitPrice  TotalPurchase  \\\n",
       "0     17850.0    536365         6       2.55          15.30   \n",
       "1     17850.0    536365         6       3.39          20.34   \n",
       "2     17850.0    536365         8       2.75          22.00   \n",
       "3     17850.0    536365         6       3.39          20.34   \n",
       "4     17850.0    536365         6       3.39          20.34   \n",
       "\n",
       "          InvoiceDate  month_yr  \n",
       "0 2018-01-12 08:36:00  Jan-2018  \n",
       "1 2018-01-12 08:36:00  Jan-2018  \n",
       "2 2018-01-12 08:36:00  Jan-2018  \n",
       "3 2018-01-12 08:36:00  Jan-2018  \n",
       "4 2018-01-12 08:36:00  Jan-2018  "
      ]
     },
     "execution_count": 30,
     "metadata": {},
     "output_type": "execute_result"
    }
   ],
   "source": [
    "il_data.head()"
   ]
  },
  {
   "cell_type": "code",
   "execution_count": 31,
   "metadata": {},
   "outputs": [],
   "source": [
    "# Building pivot table\n",
    "sale=il_data.pivot_table(index=['CustomerID'],\n",
    "                         columns=['month_yr'],\n",
    "                         values='TotalPurchase',\n",
    "                         aggfunc='sum',\n",
    "                         fill_value=0).reset_index()"
   ]
  },
  {
   "cell_type": "code",
   "execution_count": 32,
   "metadata": {},
   "outputs": [
    {
     "data": {
      "text/html": [
       "<div>\n",
       "<style scoped>\n",
       "    .dataframe tbody tr th:only-of-type {\n",
       "        vertical-align: middle;\n",
       "    }\n",
       "\n",
       "    .dataframe tbody tr th {\n",
       "        vertical-align: top;\n",
       "    }\n",
       "\n",
       "    .dataframe thead th {\n",
       "        text-align: right;\n",
       "    }\n",
       "</style>\n",
       "<table border=\"1\" class=\"dataframe\">\n",
       "  <thead>\n",
       "    <tr style=\"text-align: right;\">\n",
       "      <th>month_yr</th>\n",
       "      <th>CustomerID</th>\n",
       "      <th>Apr-2019</th>\n",
       "      <th>Aug-2018</th>\n",
       "      <th>Aug-2019</th>\n",
       "      <th>Dec-2018</th>\n",
       "      <th>Dec-2019</th>\n",
       "      <th>Feb-2018</th>\n",
       "      <th>Feb-2019</th>\n",
       "      <th>Jan-2018</th>\n",
       "      <th>Jan-2019</th>\n",
       "      <th>...</th>\n",
       "      <th>Jun-2019</th>\n",
       "      <th>Mar-2018</th>\n",
       "      <th>Mar-2019</th>\n",
       "      <th>May-2018</th>\n",
       "      <th>May-2019</th>\n",
       "      <th>Nov-2019</th>\n",
       "      <th>Oct-2018</th>\n",
       "      <th>Oct-2019</th>\n",
       "      <th>Sep-2018</th>\n",
       "      <th>Sep-2019</th>\n",
       "    </tr>\n",
       "  </thead>\n",
       "  <tbody>\n",
       "    <tr>\n",
       "      <th>0</th>\n",
       "      <td>12346.0</td>\n",
       "      <td>0.00</td>\n",
       "      <td>0.00</td>\n",
       "      <td>0.00</td>\n",
       "      <td>0.00</td>\n",
       "      <td>0.0</td>\n",
       "      <td>0.00</td>\n",
       "      <td>0.00</td>\n",
       "      <td>0.00</td>\n",
       "      <td>77183.60</td>\n",
       "      <td>...</td>\n",
       "      <td>0.00</td>\n",
       "      <td>0.0</td>\n",
       "      <td>0.00</td>\n",
       "      <td>0.00</td>\n",
       "      <td>0.00</td>\n",
       "      <td>0.00</td>\n",
       "      <td>0.00</td>\n",
       "      <td>0.00</td>\n",
       "      <td>0.0</td>\n",
       "      <td>0.00</td>\n",
       "    </tr>\n",
       "    <tr>\n",
       "      <th>1</th>\n",
       "      <td>12747.0</td>\n",
       "      <td>675.38</td>\n",
       "      <td>0.00</td>\n",
       "      <td>301.70</td>\n",
       "      <td>347.71</td>\n",
       "      <td>0.0</td>\n",
       "      <td>0.00</td>\n",
       "      <td>0.00</td>\n",
       "      <td>0.00</td>\n",
       "      <td>613.82</td>\n",
       "      <td>...</td>\n",
       "      <td>376.30</td>\n",
       "      <td>0.0</td>\n",
       "      <td>0.00</td>\n",
       "      <td>358.56</td>\n",
       "      <td>771.31</td>\n",
       "      <td>312.73</td>\n",
       "      <td>0.00</td>\n",
       "      <td>0.00</td>\n",
       "      <td>0.0</td>\n",
       "      <td>0.00</td>\n",
       "    </tr>\n",
       "    <tr>\n",
       "      <th>2</th>\n",
       "      <td>12748.0</td>\n",
       "      <td>1351.54</td>\n",
       "      <td>367.52</td>\n",
       "      <td>1926.85</td>\n",
       "      <td>809.80</td>\n",
       "      <td>538.3</td>\n",
       "      <td>4.25</td>\n",
       "      <td>673.06</td>\n",
       "      <td>4.95</td>\n",
       "      <td>666.94</td>\n",
       "      <td>...</td>\n",
       "      <td>2582.56</td>\n",
       "      <td>0.0</td>\n",
       "      <td>1148.78</td>\n",
       "      <td>966.40</td>\n",
       "      <td>1407.43</td>\n",
       "      <td>11339.11</td>\n",
       "      <td>1416.98</td>\n",
       "      <td>2369.79</td>\n",
       "      <td>136.2</td>\n",
       "      <td>4113.07</td>\n",
       "    </tr>\n",
       "    <tr>\n",
       "      <th>3</th>\n",
       "      <td>12749.0</td>\n",
       "      <td>0.00</td>\n",
       "      <td>0.00</td>\n",
       "      <td>0.00</td>\n",
       "      <td>0.00</td>\n",
       "      <td>0.0</td>\n",
       "      <td>0.00</td>\n",
       "      <td>0.00</td>\n",
       "      <td>0.00</td>\n",
       "      <td>1896.13</td>\n",
       "      <td>...</td>\n",
       "      <td>763.06</td>\n",
       "      <td>0.0</td>\n",
       "      <td>0.00</td>\n",
       "      <td>0.00</td>\n",
       "      <td>0.00</td>\n",
       "      <td>572.59</td>\n",
       "      <td>0.00</td>\n",
       "      <td>859.10</td>\n",
       "      <td>0.0</td>\n",
       "      <td>0.00</td>\n",
       "    </tr>\n",
       "    <tr>\n",
       "      <th>4</th>\n",
       "      <td>12820.0</td>\n",
       "      <td>0.00</td>\n",
       "      <td>0.00</td>\n",
       "      <td>0.00</td>\n",
       "      <td>0.00</td>\n",
       "      <td>0.0</td>\n",
       "      <td>0.00</td>\n",
       "      <td>0.00</td>\n",
       "      <td>0.00</td>\n",
       "      <td>170.46</td>\n",
       "      <td>...</td>\n",
       "      <td>210.35</td>\n",
       "      <td>0.0</td>\n",
       "      <td>0.00</td>\n",
       "      <td>0.00</td>\n",
       "      <td>0.00</td>\n",
       "      <td>0.00</td>\n",
       "      <td>0.00</td>\n",
       "      <td>343.76</td>\n",
       "      <td>0.0</td>\n",
       "      <td>217.77</td>\n",
       "    </tr>\n",
       "  </tbody>\n",
       "</table>\n",
       "<p>5 rows × 23 columns</p>\n",
       "</div>"
      ],
      "text/plain": [
       "month_yr  CustomerID  Apr-2019  Aug-2018  Aug-2019  Dec-2018  Dec-2019  \\\n",
       "0            12346.0      0.00      0.00      0.00      0.00       0.0   \n",
       "1            12747.0    675.38      0.00    301.70    347.71       0.0   \n",
       "2            12748.0   1351.54    367.52   1926.85    809.80     538.3   \n",
       "3            12749.0      0.00      0.00      0.00      0.00       0.0   \n",
       "4            12820.0      0.00      0.00      0.00      0.00       0.0   \n",
       "\n",
       "month_yr  Feb-2018  Feb-2019  Jan-2018  Jan-2019  ...  Jun-2019  Mar-2018  \\\n",
       "0             0.00      0.00      0.00  77183.60  ...      0.00       0.0   \n",
       "1             0.00      0.00      0.00    613.82  ...    376.30       0.0   \n",
       "2             4.25    673.06      4.95    666.94  ...   2582.56       0.0   \n",
       "3             0.00      0.00      0.00   1896.13  ...    763.06       0.0   \n",
       "4             0.00      0.00      0.00    170.46  ...    210.35       0.0   \n",
       "\n",
       "month_yr  Mar-2019  May-2018  May-2019  Nov-2019  Oct-2018  Oct-2019  \\\n",
       "0             0.00      0.00      0.00      0.00      0.00      0.00   \n",
       "1             0.00    358.56    771.31    312.73      0.00      0.00   \n",
       "2          1148.78    966.40   1407.43  11339.11   1416.98   2369.79   \n",
       "3             0.00      0.00      0.00    572.59      0.00    859.10   \n",
       "4             0.00      0.00      0.00      0.00      0.00    343.76   \n",
       "\n",
       "month_yr  Sep-2018  Sep-2019  \n",
       "0              0.0      0.00  \n",
       "1              0.0      0.00  \n",
       "2            136.2   4113.07  \n",
       "3              0.0      0.00  \n",
       "4              0.0    217.77  \n",
       "\n",
       "[5 rows x 23 columns]"
      ]
     },
     "execution_count": 32,
     "metadata": {},
     "output_type": "execute_result"
    }
   ],
   "source": [
    "sale.head()"
   ]
  },
  {
   "cell_type": "code",
   "execution_count": 33,
   "metadata": {},
   "outputs": [],
   "source": [
    "# Sum all the months sales\n",
    "sale['CLV']=sale.iloc[:,2:].sum(axis=1)"
   ]
  },
  {
   "cell_type": "code",
   "execution_count": 34,
   "metadata": {},
   "outputs": [
    {
     "data": {
      "text/html": [
       "<div>\n",
       "<style scoped>\n",
       "    .dataframe tbody tr th:only-of-type {\n",
       "        vertical-align: middle;\n",
       "    }\n",
       "\n",
       "    .dataframe tbody tr th {\n",
       "        vertical-align: top;\n",
       "    }\n",
       "\n",
       "    .dataframe thead th {\n",
       "        text-align: right;\n",
       "    }\n",
       "</style>\n",
       "<table border=\"1\" class=\"dataframe\">\n",
       "  <thead>\n",
       "    <tr style=\"text-align: right;\">\n",
       "      <th>month_yr</th>\n",
       "      <th>CustomerID</th>\n",
       "      <th>Apr-2019</th>\n",
       "      <th>Aug-2018</th>\n",
       "      <th>Aug-2019</th>\n",
       "      <th>Dec-2018</th>\n",
       "      <th>Dec-2019</th>\n",
       "      <th>Feb-2018</th>\n",
       "      <th>Feb-2019</th>\n",
       "      <th>Jan-2018</th>\n",
       "      <th>Jan-2019</th>\n",
       "      <th>...</th>\n",
       "      <th>Mar-2018</th>\n",
       "      <th>Mar-2019</th>\n",
       "      <th>May-2018</th>\n",
       "      <th>May-2019</th>\n",
       "      <th>Nov-2019</th>\n",
       "      <th>Oct-2018</th>\n",
       "      <th>Oct-2019</th>\n",
       "      <th>Sep-2018</th>\n",
       "      <th>Sep-2019</th>\n",
       "      <th>CLV</th>\n",
       "    </tr>\n",
       "  </thead>\n",
       "  <tbody>\n",
       "    <tr>\n",
       "      <th>0</th>\n",
       "      <td>12346.0</td>\n",
       "      <td>0.00</td>\n",
       "      <td>0.00</td>\n",
       "      <td>0.00</td>\n",
       "      <td>0.00</td>\n",
       "      <td>0.0</td>\n",
       "      <td>0.00</td>\n",
       "      <td>0.00</td>\n",
       "      <td>0.00</td>\n",
       "      <td>77183.60</td>\n",
       "      <td>...</td>\n",
       "      <td>0.0</td>\n",
       "      <td>0.00</td>\n",
       "      <td>0.00</td>\n",
       "      <td>0.00</td>\n",
       "      <td>0.00</td>\n",
       "      <td>0.00</td>\n",
       "      <td>0.00</td>\n",
       "      <td>0.0</td>\n",
       "      <td>0.00</td>\n",
       "      <td>77183.60</td>\n",
       "    </tr>\n",
       "    <tr>\n",
       "      <th>1</th>\n",
       "      <td>12747.0</td>\n",
       "      <td>675.38</td>\n",
       "      <td>0.00</td>\n",
       "      <td>301.70</td>\n",
       "      <td>347.71</td>\n",
       "      <td>0.0</td>\n",
       "      <td>0.00</td>\n",
       "      <td>0.00</td>\n",
       "      <td>0.00</td>\n",
       "      <td>613.82</td>\n",
       "      <td>...</td>\n",
       "      <td>0.0</td>\n",
       "      <td>0.00</td>\n",
       "      <td>358.56</td>\n",
       "      <td>771.31</td>\n",
       "      <td>312.73</td>\n",
       "      <td>0.00</td>\n",
       "      <td>0.00</td>\n",
       "      <td>0.0</td>\n",
       "      <td>0.00</td>\n",
       "      <td>3520.63</td>\n",
       "    </tr>\n",
       "    <tr>\n",
       "      <th>2</th>\n",
       "      <td>12748.0</td>\n",
       "      <td>1351.54</td>\n",
       "      <td>367.52</td>\n",
       "      <td>1926.85</td>\n",
       "      <td>809.80</td>\n",
       "      <td>538.3</td>\n",
       "      <td>4.25</td>\n",
       "      <td>673.06</td>\n",
       "      <td>4.95</td>\n",
       "      <td>666.94</td>\n",
       "      <td>...</td>\n",
       "      <td>0.0</td>\n",
       "      <td>1148.78</td>\n",
       "      <td>966.40</td>\n",
       "      <td>1407.43</td>\n",
       "      <td>11339.11</td>\n",
       "      <td>1416.98</td>\n",
       "      <td>2369.79</td>\n",
       "      <td>136.2</td>\n",
       "      <td>4113.07</td>\n",
       "      <td>32368.19</td>\n",
       "    </tr>\n",
       "    <tr>\n",
       "      <th>3</th>\n",
       "      <td>12749.0</td>\n",
       "      <td>0.00</td>\n",
       "      <td>0.00</td>\n",
       "      <td>0.00</td>\n",
       "      <td>0.00</td>\n",
       "      <td>0.0</td>\n",
       "      <td>0.00</td>\n",
       "      <td>0.00</td>\n",
       "      <td>0.00</td>\n",
       "      <td>1896.13</td>\n",
       "      <td>...</td>\n",
       "      <td>0.0</td>\n",
       "      <td>0.00</td>\n",
       "      <td>0.00</td>\n",
       "      <td>0.00</td>\n",
       "      <td>572.59</td>\n",
       "      <td>0.00</td>\n",
       "      <td>859.10</td>\n",
       "      <td>0.0</td>\n",
       "      <td>0.00</td>\n",
       "      <td>4090.88</td>\n",
       "    </tr>\n",
       "    <tr>\n",
       "      <th>4</th>\n",
       "      <td>12820.0</td>\n",
       "      <td>0.00</td>\n",
       "      <td>0.00</td>\n",
       "      <td>0.00</td>\n",
       "      <td>0.00</td>\n",
       "      <td>0.0</td>\n",
       "      <td>0.00</td>\n",
       "      <td>0.00</td>\n",
       "      <td>0.00</td>\n",
       "      <td>170.46</td>\n",
       "      <td>...</td>\n",
       "      <td>0.0</td>\n",
       "      <td>0.00</td>\n",
       "      <td>0.00</td>\n",
       "      <td>0.00</td>\n",
       "      <td>0.00</td>\n",
       "      <td>0.00</td>\n",
       "      <td>343.76</td>\n",
       "      <td>0.0</td>\n",
       "      <td>217.77</td>\n",
       "      <td>942.34</td>\n",
       "    </tr>\n",
       "  </tbody>\n",
       "</table>\n",
       "<p>5 rows × 24 columns</p>\n",
       "</div>"
      ],
      "text/plain": [
       "month_yr  CustomerID  Apr-2019  Aug-2018  Aug-2019  Dec-2018  Dec-2019  \\\n",
       "0            12346.0      0.00      0.00      0.00      0.00       0.0   \n",
       "1            12747.0    675.38      0.00    301.70    347.71       0.0   \n",
       "2            12748.0   1351.54    367.52   1926.85    809.80     538.3   \n",
       "3            12749.0      0.00      0.00      0.00      0.00       0.0   \n",
       "4            12820.0      0.00      0.00      0.00      0.00       0.0   \n",
       "\n",
       "month_yr  Feb-2018  Feb-2019  Jan-2018  Jan-2019  ...  Mar-2018  Mar-2019  \\\n",
       "0             0.00      0.00      0.00  77183.60  ...       0.0      0.00   \n",
       "1             0.00      0.00      0.00    613.82  ...       0.0      0.00   \n",
       "2             4.25    673.06      4.95    666.94  ...       0.0   1148.78   \n",
       "3             0.00      0.00      0.00   1896.13  ...       0.0      0.00   \n",
       "4             0.00      0.00      0.00    170.46  ...       0.0      0.00   \n",
       "\n",
       "month_yr  May-2018  May-2019  Nov-2019  Oct-2018  Oct-2019  Sep-2018  \\\n",
       "0             0.00      0.00      0.00      0.00      0.00       0.0   \n",
       "1           358.56    771.31    312.73      0.00      0.00       0.0   \n",
       "2           966.40   1407.43  11339.11   1416.98   2369.79     136.2   \n",
       "3             0.00      0.00    572.59      0.00    859.10       0.0   \n",
       "4             0.00      0.00      0.00      0.00    343.76       0.0   \n",
       "\n",
       "month_yr  Sep-2019       CLV  \n",
       "0             0.00  77183.60  \n",
       "1             0.00   3520.63  \n",
       "2          4113.07  32368.19  \n",
       "3             0.00   4090.88  \n",
       "4           217.77    942.34  \n",
       "\n",
       "[5 rows x 24 columns]"
      ]
     },
     "execution_count": 34,
     "metadata": {},
     "output_type": "execute_result"
    }
   ],
   "source": [
    "sale.head()"
   ]
  },
  {
   "cell_type": "markdown",
   "metadata": {},
   "source": [
    "## Selecting Feature"
   ]
  },
  {
   "cell_type": "code",
   "execution_count": 35,
   "metadata": {},
   "outputs": [],
   "source": [
    "X=sale[['Dec-2019','Nov-2019', 'Oct-2019','Sep-2019','Aug-2019','Jul-2019']]\n",
    "y=sale[['CLV']]"
   ]
  },
  {
   "cell_type": "markdown",
   "metadata": {},
   "source": [
    "## Splitting Data"
   ]
  },
  {
   "cell_type": "code",
   "execution_count": 36,
   "metadata": {},
   "outputs": [],
   "source": [
    "#split training set and test set\n",
    "from sklearn.model_selection import train_test_split\n",
    "X_train, X_test, y_train, y_test = train_test_split(X, y, test_size=0.3, random_state=0)"
   ]
  },
  {
   "cell_type": "markdown",
   "metadata": {},
   "source": [
    "## Model Development"
   ]
  },
  {
   "cell_type": "code",
   "execution_count": 37,
   "metadata": {},
   "outputs": [
    {
     "data": {
      "text/plain": [
       "LinearRegression(copy_X=True, fit_intercept=True, n_jobs=None, normalize=False)"
      ]
     },
     "execution_count": 37,
     "metadata": {},
     "output_type": "execute_result"
    }
   ],
   "source": [
    "# import model\n",
    "from sklearn.linear_model import LinearRegression\n",
    "\n",
    "# instantiate\n",
    "regressor = LinearRegression()\n",
    "\n",
    "# fit the model to the training data (learn the coefficients)\n",
    "regressor.fit(X_train, y_train)"
   ]
  },
  {
   "cell_type": "code",
   "execution_count": 38,
   "metadata": {},
   "outputs": [
    {
     "name": "stdout",
     "output_type": "stream",
     "text": [
      "                            OLS Regression Results                            \n",
      "==============================================================================\n",
      "Dep. Variable:                    CLV   R-squared:                       0.918\n",
      "Model:                            OLS   Adj. R-squared:                  0.918\n",
      "Method:                 Least Squares   F-statistic:                     5091.\n",
      "Date:                Mon, 18 May 2020   Prob (F-statistic):               0.00\n",
      "Time:                        00:34:20   Log-Likelihood:                -24704.\n",
      "No. Observations:                2744   AIC:                         4.942e+04\n",
      "Df Residuals:                    2737   BIC:                         4.946e+04\n",
      "Df Model:                           6                                         \n",
      "Covariance Type:            nonrobust                                         \n",
      "==============================================================================\n",
      "                 coef    std err          t      P>|t|      [0.025      0.975]\n",
      "------------------------------------------------------------------------------\n",
      "const        152.9169     40.044      3.819      0.000      74.398     231.436\n",
      "Dec-2019       1.6573      0.220      7.520      0.000       1.225       2.089\n",
      "Nov-2019       1.2501      0.046     26.970      0.000       1.159       1.341\n",
      "Oct-2019       1.2928      0.039     33.175      0.000       1.216       1.369\n",
      "Sep-2019       1.0262      0.011     90.372      0.000       1.004       1.048\n",
      "Aug-2019       2.0346      0.110     18.543      0.000       1.819       2.250\n",
      "Jul-2019       3.0964      0.062     49.911      0.000       2.975       3.218\n",
      "==============================================================================\n",
      "Omnibus:                     6457.234   Durbin-Watson:                   2.013\n",
      "Prob(Omnibus):                  0.000   Jarque-Bera (JB):         91227092.421\n",
      "Skew:                          22.699   Prob(JB):                         0.00\n",
      "Kurtosis:                     895.101   Cond. No.                     3.71e+03\n",
      "==============================================================================\n",
      "\n",
      "Warnings:\n",
      "[1] Standard Errors assume that the covariance matrix of the errors is correctly specified.\n",
      "[2] The condition number is large, 3.71e+03. This might indicate that there are\n",
      "strong multicollinearity or other numerical problems.\n"
     ]
    },
    {
     "name": "stderr",
     "output_type": "stream",
     "text": [
      "C:\\ProgramData\\Anaconda3\\lib\\site-packages\\numpy\\core\\fromnumeric.py:2542: FutureWarning: Method .ptp is deprecated and will be removed in a future version. Use numpy.ptp instead.\n",
      "  return ptp(axis=axis, out=out, **kwargs)\n"
     ]
    }
   ],
   "source": [
    "import statsmodels.api as sm\n",
    "\n",
    "# Add a constant to the independent value\n",
    "X1_train = sm.add_constant(X_train)\n",
    "\n",
    "# make regression model \n",
    "model = sm.OLS(y_train, X1_train)\n",
    "\n",
    "result = model.fit()\n",
    "print(result.summary())"
   ]
  },
  {
   "cell_type": "code",
   "execution_count": 39,
   "metadata": {},
   "outputs": [
    {
     "name": "stdout",
     "output_type": "stream",
     "text": [
      "Intercept: 152.9169\n",
      "--------------------------------\n",
      "Slopes:\n",
      "--------------------------------\n",
      "Dec-2019: 1.6573\n",
      "Nov-2019: 1.2501\n",
      "Oct-2019: 1.2928\n",
      "Sep-2019: 1.0262\n",
      "Aug-2019: 2.0346\n",
      "Jul-2019: 3.0964\n"
     ]
    }
   ],
   "source": [
    "# print the intercept and coefficients\n",
    "coef = pd.DataFrame(result.params.values,columns={'coef'},)\n",
    "print('Intercept:',round(coef.iloc[0,0],4))\n",
    "print('--------------------------------')\n",
    "print('Slopes:')\n",
    "print('--------------------------------')\n",
    "print('Dec-2019:',round(coef.iloc[1,0],4))\n",
    "print('Nov-2019:',round(coef.iloc[2,0],4))\n",
    "print('Oct-2019:',round(coef.iloc[3,0],4))\n",
    "print('Sep-2019:',round(coef.iloc[4,0],4))\n",
    "print('Aug-2019:',round(coef.iloc[5,0],4))\n",
    "print('Jul-2019:',round(coef.iloc[6,0],4))"
   ]
  },
  {
   "cell_type": "code",
   "execution_count": 40,
   "metadata": {},
   "outputs": [],
   "source": [
    "# make predictions on the testing set\n",
    "y_pred = regressor.predict(X_test)"
   ]
  },
  {
   "cell_type": "markdown",
   "metadata": {},
   "source": [
    "# How Well Does the Model Fit the data?"
   ]
  },
  {
   "cell_type": "code",
   "execution_count": 41,
   "metadata": {},
   "outputs": [
    {
     "name": "stdout",
     "output_type": "stream",
     "text": [
      "R-Square: 95.62%\n",
      "This model has a higher R-squared 95.62% . This model provides a better fit to the data\n"
     ]
    }
   ],
   "source": [
    "from sklearn import metrics\n",
    "# compute the R Square for model\n",
    "print(\"R-Square:\",\"{:.2%}\".format(metrics.r2_score(y_test, y_pred)))\n",
    "print(\"This model has a higher R-squared\",\"{:.2%}\".format(metrics.r2_score(y_test, y_pred)),\n",
    "      \". This model provides a better fit to the data\")"
   ]
  },
  {
   "cell_type": "markdown",
   "metadata": {},
   "source": [
    "## Model Evaluation"
   ]
  },
  {
   "cell_type": "code",
   "execution_count": 42,
   "metadata": {},
   "outputs": [
    {
     "name": "stdout",
     "output_type": "stream",
     "text": [
      "The Mean Absolute Error (MAE) is: 622.36\n",
      "The Mean Squared Error (MSE): 2299523.74\n",
      "The Root Mean Squared Error (RMSE) is: 1516.42\n"
     ]
    }
   ],
   "source": [
    "# calculate MAE using scikit-learn\n",
    "print(\"The Mean Absolute Error (MAE) is:\",round(metrics.mean_absolute_error(y_test,y_pred),2))\n",
    "#calculate mean squared error\n",
    "print(\"The Mean Squared Error (MSE):\",round(metrics.mean_squared_error(y_test, y_pred),2))\n",
    "# compute the RMSE of our predictions\n",
    "print(\"The Root Mean Squared Error (RMSE) is:\",round(np.sqrt(metrics.mean_squared_error(y_test, y_pred)),2))"
   ]
  },
  {
   "cell_type": "markdown",
   "metadata": {},
   "source": [
    "# Real-time Prediction"
   ]
  },
  {
   "cell_type": "code",
   "execution_count": 43,
   "metadata": {},
   "outputs": [
    {
     "name": "stdout",
     "output_type": "stream",
     "text": [
      "\u001b[1m The CLV for the new customer is: $ 477.05\n"
     ]
    }
   ],
   "source": [
    "new_data = np.array([100,75,50,0,0,0]).reshape(1, -1)\n",
    "\n",
    "new_pred=regressor.predict(new_data)\n",
    "\n",
    "result = float(new_pred[0])\n",
    "print(\"\\033[1m The CLV for the new customer is: $\",round(result,2))"
   ]
  }
 ],
 "metadata": {
  "kernelspec": {
   "display_name": "Python 3",
   "language": "python",
   "name": "python3"
  },
  "language_info": {
   "codemirror_mode": {
    "name": "ipython",
    "version": 3
   },
   "file_extension": ".py",
   "mimetype": "text/x-python",
   "name": "python",
   "nbconvert_exporter": "python",
   "pygments_lexer": "ipython3",
   "version": "3.7.6"
  }
 },
 "nbformat": 4,
 "nbformat_minor": 4
}
